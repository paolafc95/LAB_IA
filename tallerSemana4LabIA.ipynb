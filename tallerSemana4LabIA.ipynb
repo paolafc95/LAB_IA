{
 "cells": [
  {
   "cell_type": "markdown",
   "metadata": {},
   "source": [
    "# MNIST (dígitos) solución tradicional\n",
    "\n",
    "__Integrantes:__\n",
    "\n",
    "+ Nombre: Lilian Paola Fuentes Caro\n",
    "+ Nombre: Juan Manuel Imbachí Güengue\n",
    "\n",
    "__Números asignados:__\n",
    "    8 y 2"
   ]
  },
  {
   "cell_type": "markdown",
   "metadata": {},
   "source": [
    "## Taller \n",
    "\n",
    "_Suponga que trabajan para el desarrollo de un sistema de lectura y reconocimiento de dígitos. Para este trabajo le han proporcionado un conjunto de fotos en grises con el fin que proponga una solución de programación tradicional, es decir, sin el uso de la inteligencia artificial. El software que proponga debe tener la capacidad de determinar con una precisión una muestra de los datos que le han suministrado_\n",
    "\n",
    "Durante la clase se le proporcionaran dos números para trabajar:\n",
    "+ 1 y 5\n",
    "+ 8 y 2\n",
    "+ 9 y 7\n",
    "+ 0 y 3\n",
    "+ 4 y 6\n",
    "\n",
    "**Evaluación del método**\n",
    "\n",
    "Seleccione aleatoriamente una muestra de 30% de los datos, en donde se incluya un balance entre los dígitos asignados (despliéguelo y evidencie las cantidades).\n",
    "\n",
    "Utilice la muestra obtenida y evalué el software (proceso o métodos) que ha propuesto, es decir, a cuantos números acertó (VP) contra los que no acertó (FP), calcule los siguientes datos:\n",
    "\n",
    "```\n",
    "Para el primer número\n",
    "\n",
    "Reales =  número de datos\n",
    "\n",
    "Estimados = cantidad de dígitos estimados correctamente \n",
    "\n",
    "Para el segundo número\n",
    "\n",
    "Reales =  número de datos\n",
    "\n",
    "Estimados = cantidad de dígitos estimados correctamente\n",
    "```\n",
    "_Para todos los números que le corresponden_\n",
    "\n",
    "$ Precision = \\frac{VP}{VP+FP}$\n",
    "\n",
    "\n",
    "Finalmente, despliegue el tiempo que tomo todo el proceso de evaluación."
   ]
  },
  {
   "cell_type": "markdown",
   "metadata": {
    "heading_collapsed": true
   },
   "source": [
    "#### Entregas\n",
    "\n",
    "+ Prepare una presentación donde muestre los resultados\n",
    "+ Envié por un correo electrónico este archivo ipynb con la solución y resultados conseguidos\n"
   ]
  },
  {
   "cell_type": "markdown",
   "metadata": {},
   "source": [
    "#### Paquetes"
   ]
  },
  {
   "cell_type": "code",
   "execution_count": 1,
   "metadata": {},
   "outputs": [],
   "source": [
    "from sklearn.datasets import load_digits\n",
    "import pylab as pl\n",
    "import sklearn"
   ]
  },
  {
   "cell_type": "code",
   "execution_count": 2,
   "metadata": {},
   "outputs": [
    {
     "data": {
      "text/plain": [
       "sklearn.utils.Bunch"
      ]
     },
     "execution_count": 2,
     "metadata": {},
     "output_type": "execute_result"
    }
   ],
   "source": [
    "# cargamos los datos y desplegamos el objeto\n",
    "digits = load_digits()\n",
    "type(digits)"
   ]
  },
  {
   "cell_type": "code",
   "execution_count": 3,
   "metadata": {},
   "outputs": [],
   "source": [
    "# observe las propieades del objeto, ¿a que tipo se le parece?\n",
    "?sklearn.utils.Bunch"
   ]
  },
  {
   "cell_type": "code",
   "execution_count": 4,
   "metadata": {
    "scrolled": true
   },
   "outputs": [
    {
     "data": {
      "text/plain": [
       "<matplotlib.image.AxesImage at 0x231e40b1fd0>"
      ]
     },
     "execution_count": 4,
     "metadata": {},
     "output_type": "execute_result"
    },
    {
     "data": {
      "text/plain": [
       "<Figure size 432x288 with 0 Axes>"
      ]
     },
     "metadata": {},
     "output_type": "display_data"
    },
    {
     "data": {
      "image/png": "[encoded data removed]",
      "text/plain": [
       "<Figure size 288x288 with 1 Axes>"
      ]
     },
     "metadata": {
      "needs_background": "light"
     },
     "output_type": "display_data"
    }
   ],
   "source": [
    "pl.gray() # Queremos las imágenes en grises\n",
    "pl.matshow(digits.images[1491]) # Imprimir una imagen dada"
   ]
  },
  {
   "cell_type": "code",
   "execution_count": 5,
   "metadata": {},
   "outputs": [
    {
     "data": {
      "text/plain": [
       "8"
      ]
     },
     "execution_count": 5,
     "metadata": {},
     "output_type": "execute_result"
    }
   ],
   "source": [
    "digits.target_names[8]"
   ]
  },
  {
   "cell_type": "code",
   "execution_count": 6,
   "metadata": {
    "scrolled": true
   },
   "outputs": [
    {
     "name": "stdout",
     "output_type": "stream",
     "text": [
      "Se tienen en total: 1797 imágenes\n",
      "[[ 0.  0.  7. 15. 13.  1.  0.  0.]\n",
      " [ 0.  8. 13.  6. 15.  4.  0.  0.]\n",
      " [ 0.  2.  1. 13. 13.  0.  0.  0.]\n",
      " [ 0.  0.  2. 15. 11.  1.  0.  0.]\n",
      " [ 0.  0.  0.  1. 12. 12.  1.  0.]\n",
      " [ 0.  0.  0.  0.  1. 10.  8.  0.]\n",
      " [ 0.  0.  8.  4.  5. 14.  9.  0.]\n",
      " [ 0.  0.  7. 13. 13.  9.  0.  0.]]\n"
     ]
    }
   ],
   "source": [
    "pl\n",
    "numImagenes = len(digits.images) # Numero de imagenes, len es un método que provee el tamaño del arreglo\n",
    "print(\"Se tienen en total:\", numImagenes, \"imágenes\")\n",
    "print(digits.images[3]) # Ver su representación en pixeles"
   ]
  },
  {
   "cell_type": "markdown",
   "metadata": {},
   "source": [
    "Observe cada atributo del objeto digits, recorra cada imagen y obtenga su representación (_target_)"
   ]
  },
  {
   "cell_type": "markdown",
   "metadata": {
    "heading_collapsed": true
   },
   "source": [
    "#### Solución"
   ]
  },
  {
   "cell_type": "code",
   "execution_count": 12,
   "metadata": {},
   "outputs": [],
   "source": [
    "#Funcion que me devuelve los ocho en una lista\n",
    "def numsOcho(lista):\n",
    "    nums =[]\n",
    "    numImagenes = len(lista)\n",
    "    \n",
    "    for i in range(numImagenes):\n",
    "        if lista[i] == 8:\n",
    "            nums.append(i)\n",
    "    \n",
    "    return nums\n",
    "\n"
   ]
  },
  {
   "cell_type": "code",
   "execution_count": 8,
   "metadata": {},
   "outputs": [],
   "source": [
    "#Funcion que me devuelve los dos en una lista\n",
    "def numsDos(lista):\n",
    "    nums =[]\n",
    "    numImagenes = len(lista)\n",
    "    \n",
    "    for i in range(numImagenes):\n",
    "        if lista[i] == 2:\n",
    "            nums.append(i)\n",
    "    \n",
    "    return nums\n",
    "\n"
   ]
  },
  {
   "cell_type": "code",
   "execution_count": 9,
   "metadata": {},
   "outputs": [],
   "source": [
    "## Sacar la media de los elementos de una lista de matrices\n",
    "\n",
    "def mediaMatrices(listaTargets,listaElementos, numero):\n",
    "    if numero == 8:\n",
    "        lista = numsOcho(listaTargets)\n",
    "    elif numero == 2:\n",
    "        lista = numsDos(listaTargets)\n",
    "    else:\n",
    "        return [0,0]\n",
    "    \n",
    "    maxBuscados = int(len(lista)*0.3)\n",
    "    totalSup = 0\n",
    "    totalInf = 0\n",
    "    \n",
    "    for i in range(maxBuscados):\n",
    "        sumatoriaSup =0\n",
    "        sumatoriaInf = 0\n",
    "        for r in range(8):\n",
    "            for c in range(8):\n",
    "                if r<4:\n",
    "                    sumatoriaSup += listaElementos[lista[i]][r][c]\n",
    "                else:\n",
    "                    sumatoriaInf += listaElementos[lista[i]][r][c]\n",
    "        \n",
    "        totalSup += sumatoriaSup\n",
    "        \n",
    "        totalInf += sumatoriaInf\n",
    "    \n",
    "    \n",
    "    MediaSup = totalSup/maxBuscados\n",
    "    MediaInf = totalInf/maxBuscados\n",
    "    return [MediaSup,MediaInf]\n",
    "    \n"
   ]
  },
  {
   "cell_type": "code",
   "execution_count": 10,
   "metadata": {},
   "outputs": [],
   "source": [
    "## Verificar Precisión\n",
    "\n",
    "def verificarPrecision(listaTargets, listaImages,digito):\n",
    "    numImagenes = len(listaImages)\n",
    "    mediaNum = mediaMatrices(listaTargets,listaImages,digito)\n",
    "\n",
    "    vp = 0\n",
    "    fp = 0\n",
    "    for i in range(numImagenes):\n",
    "        sumatoriaSup =0\n",
    "        sumatoriaInf = 0\n",
    "        for r in range(8):\n",
    "            for c in range(8):\n",
    "                if r<4:\n",
    "                    sumatoriaSup += listaImages[i][r][c]\n",
    "                else:\n",
    "                    sumatoriaInf += listaImages[i][r][c]\n",
    "\n",
    "\n",
    "        difSuperior= abs(mediaNum[0]-sumatoriaSup)\n",
    "        difInferior= abs(mediaNum[1]-sumatoriaInf)\n",
    "        if digito == 8:\n",
    "            if difSuperior<=34 and difInferior<=37:\n",
    "\n",
    "                if listaTargets[i] ==8:\n",
    "                    vp = vp+1\n",
    "                else:\n",
    "                    fp = fp+1\n",
    "            else:\n",
    "                if listaTargets[i] ==8:\n",
    "                    fp = fp+1\n",
    "        elif digito == 2:\n",
    "            if difSuperior<=34 and difInferior<=37:\n",
    "\n",
    "                if listaTargets[i] ==2:\n",
    "                    vp = vp+1\n",
    "                else:\n",
    "                    fp = fp+1\n",
    "            else:\n",
    "                if listaTargets[i] ==2:\n",
    "                    fp = fp+1\n",
    "    precision = vp / (vp +fp)\n",
    "    print(\"Para el dígito\",digito,\"los resultados obtenidos fueron:\")\n",
    "    print(\"VP = \",vp)\n",
    "    print(\"FP = \",fp)\n",
    "    print(\"Precision =\",precision *100,\"%\")\n",
    "\n"
   ]
  },
  {
   "cell_type": "code",
   "execution_count": 11,
   "metadata": {},
   "outputs": [
    {
     "name": "stdout",
     "output_type": "stream",
     "text": [
      "Para el dígito 8 los resultados obtenidos fueron:\n",
      "VP =  138\n",
      "FP =  792\n",
      "Precision = 14.838709677419354 %\n",
      "----------------------------------------------------\n",
      "Para el dígito 2 los resultados obtenidos fueron:\n",
      "VP =  151\n",
      "FP =  737\n",
      "Precision = 17.004504504504506 %\n",
      "----------------------------------------------------\n",
      "Tiempo que duró la prueba: 0.2298583984 segundos.\n"
     ]
    }
   ],
   "source": [
    "#Ejecución completa\n",
    "from time import time\n",
    "start_time = time()\n",
    "\n",
    "# Aquí se realiza el llamado al método, el último parámetro es para indicar si desea realizar \n",
    "# la prueba para el numero ocho(8) o para el número dos(2), otro número ocasionará error en el funcionamiento\n",
    "# no se controlaron esos casos\n",
    "\n",
    "verificarPrecision(digits.target, digits.images,8)\n",
    "print(\"----------------------------------------------------\")\n",
    "\n",
    "verificarPrecision(digits.target, digits.images,2)\n",
    "print(\"----------------------------------------------------\")\n",
    "\n",
    "elapsed_time = time() - start_time\n",
    "print(\"Tiempo que duró la prueba: %.10f segundos.\" % elapsed_time)\n"
   ]
  },
  {
   "cell_type": "code",
   "execution_count": 66,
   "metadata": {},
   "outputs": [
    {
     "name": "stdout",
     "output_type": "stream",
     "text": [
      "Análisis para el 30 % de los datos (números 2)\n",
      "VP : 22\n",
      "FP : 31\n",
      "Reales : 53\n",
      "Precisión : 41.509433962264154 %\n",
      "----------------------------------------------------\n",
      "Análisis para el 100 % de los datos (números 2)\n",
      "VP : 68\n",
      "FP : 109\n",
      "Reales : 177\n",
      "Precisión : 38.4180790960452 %\n",
      "Tiempo que duró la prueba: 0.2298583984 segundos.\n"
     ]
    }
   ],
   "source": [
    "#Función para sacar el total de apariciones del número 2\n",
    "def totaldos() :\n",
    "    list = []\n",
    "    counter = 0\n",
    "    for i in digits.target :\n",
    "        if(i == 2) :\n",
    "            list.append(counter)\n",
    "        counter+=1\n",
    "    return list\n",
    "\n",
    "#Función para sacar el 30% de los datos que sean números 2\n",
    "def muestraDos():\n",
    "    list = []\n",
    "    counter = 0\n",
    "    for i in digits.target :\n",
    "        if(i == 2) :\n",
    "            list.append(counter)            \n",
    "            counter+=1\n",
    "            \n",
    "    newList = list[0 : int(len(list)*0.3)]    \n",
    "    return newList\n",
    "\n",
    "\n",
    "# Función para el patrón del número 2\n",
    "def patronDos(matriz):\n",
    "    cont = 0\n",
    "    salida = False\n",
    "    if ((matriz[0][2] +matriz[0][3] +matriz[0][4]) >= 13):\n",
    "        cont = cont + 1\n",
    "    if ((matriz[1][2] +matriz[1][3] +matriz[1][4]) >= 41):\n",
    "        cont = cont + 1\n",
    "    if ((matriz[2][3] +matriz[2][4] +matriz[2][5]) >= 21):\n",
    "        cont = cont + 1\n",
    "    if ((matriz[3][3] +matriz[3][4]) >= 23):\n",
    "        cont = cont + 1\n",
    "    if ((matriz[4][2] +matriz[4][3] +matriz[4][4]) >= 24):\n",
    "        cont = cont + 1\n",
    "    if ((matriz[5][2] +matriz[5][3] +matriz[5][4]) >= 30):\n",
    "        cont = cont + 1\n",
    "    if ((matriz[6][1] +matriz[6][2] +matriz[6][3]+matriz[6][4]+matriz[6][5]+matriz[6][6]) >= 62):\n",
    "        cont = cont + 1\n",
    "    if ((matriz[7][1] +matriz[7][2] +matriz[7][3]+matriz[7][4]+matriz[7][5]+matriz[7][6]) >= 78):\n",
    "        cont = cont + 1\n",
    "        \n",
    "    if(cont >= 4):\n",
    "        salida = True\n",
    "    return salida\n",
    "\n",
    "\n",
    "VP = 0\n",
    "FP = 0\n",
    "for i in muestraDos() :\n",
    "    if(patronDos(digits.images[i]) == True):\n",
    "        VP = VP + 1\n",
    "    else :\n",
    "        FP = FP + 1\n",
    "        \n",
    "print(\"Análisis para el 30 % de los datos (números 2)\")        \n",
    "print(\"VP :\", VP)\n",
    "print(\"FP :\", FP)\n",
    "print(\"Reales :\", (len(muestraDos())))\n",
    "print(\"Precisión :\", ((VP/(VP+FP))*100), \"%\")\n",
    "print(\"----------------------------------------------------\")\n",
    "    \n",
    "\n",
    "VP = 0\n",
    "FP = 0\n",
    "for i in totaldos() :\n",
    "    if(patronDos(digits.images[i]) == True):\n",
    "        VP = VP + 1\n",
    "    else :\n",
    "        FP = FP + 1\n",
    "   \n",
    "print(\"Análisis para el 100 % de los datos (números 2)\")        \n",
    "print(\"VP :\", VP)\n",
    "print(\"FP :\", FP)\n",
    "print(\"Reales :\", (len(totaldos())))\n",
    "print(\"Precisión :\", ((VP/(VP+FP))*100), \"%\")\n",
    "print(\"Tiempo que duró la prueba: %.10f segundos.\" % elapsed_time)"
   ]
  }
 ],
 "metadata": {
  "kernelspec": {
   "display_name": "Python 3",
   "language": "python",
   "name": "python3"
  },
  "language_info": {
   "codemirror_mode": {
    "name": "ipython",
    "version": 3
   },
   "file_extension": ".py",
   "mimetype": "text/x-python",
   "name": "python",
   "nbconvert_exporter": "python",
   "pygments_lexer": "ipython3",
   "version": "3.7.3"
  }
 },
 "nbformat": 4,
 "nbformat_minor": 2
}
